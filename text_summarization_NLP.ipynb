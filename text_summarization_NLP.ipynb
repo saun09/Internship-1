{
  "nbformat": 4,
  "nbformat_minor": 0,
  "metadata": {
    "colab": {
      "provenance": [],
      "authorship_tag": "ABX9TyN8UOo01FR9O9cWsG+qF/ZC",
      "include_colab_link": true
    },
    "kernelspec": {
      "name": "python3",
      "display_name": "Python 3"
    },
    "language_info": {
      "name": "python"
    }
  },
  "cells": [
    {
      "cell_type": "markdown",
      "metadata": {
        "id": "view-in-github",
        "colab_type": "text"
      },
      "source": [
        "<a href=\"https://colab.research.google.com/github/saun09/Internship-1/blob/main/text_summarization_NLP.ipynb\" target=\"_parent\"><img src=\"https://colab.research.google.com/assets/colab-badge.svg\" alt=\"Open In Colab\"/></a>"
      ]
    },
    {
      "cell_type": "code",
      "execution_count": 5,
      "metadata": {
        "colab": {
          "base_uri": "https://localhost:8080/"
        },
        "id": "YR-Pckqk4Q2R",
        "outputId": "4e733135-793e-40f6-a042-d3fff0869b3e"
      },
      "outputs": [
        {
          "output_type": "stream",
          "name": "stdout",
          "text": [
            "summary is :   The journey can start, or in the case of most language teachers, resume, at any given point in time,with any literary piece of one’s choice. For instance, they can go for short stories by the likes of O Henry and Satyajit Ray, \n",
            " wherein the pleasure of having reached the end of the story in a short span of time will always foreshadow the guilt of not having finished the book. In my experience, it often happens that an anthology is left midway if one comes across something more interesting and appropriate to the mood. Short stories by acclaimed authors have been of great help to me, especially when I am trying to recover from a dry spell of reading.\n"
          ]
        },
        {
          "output_type": "stream",
          "name": "stderr",
          "text": [
            "[nltk_data] Downloading package stopwords to /root/nltk_data...\n",
            "[nltk_data]   Package stopwords is already up-to-date!\n",
            "[nltk_data] Downloading package punkt to /root/nltk_data...\n",
            "[nltk_data]   Package punkt is already up-to-date!\n"
          ]
        }
      ],
      "source": [
        "import nltk\n",
        "nltk.download('stopwords')\n",
        "nltk.download('punkt')\n",
        "from nltk.tokenize import word_tokenize, sent_tokenize\n",
        "from nltk.corpus import stopwords\n",
        "text = \"\"\"The journey can start, or in the case of most language teachers, resume, at any given point in time,with any literary piece of one’s choice.\n",
        "Start with baby steps. For instance, they can go for short stories by the likes of O Henry and Satyajit Ray,\n",
        " wherein the pleasure of having reached the end of the story in a short span of time will always foreshadow the guilt of not having finished the book.\n",
        "In my experience, it often happens that an anthology is left midway if one comes across something more interesting and appropriate to the mood.\n",
        "Short stories by acclaimed authors have been of great help to me, especially when I am trying to recover from a dry spell of reading. \"\"\"\n",
        "#creating a set of stop words\n",
        "stop_words=set(stopwords.words(\"english\"))\n",
        "words=word_tokenize(text)\n",
        "#make a frequency table to keep count of repeating word\n",
        "freq_table=dict()\n",
        "for word in words:\n",
        "    word=word.lower()\n",
        "    if word in stop_words:\n",
        "        continue\n",
        "    if word in freq_table:\n",
        "        freq_table[word]+=1\n",
        "    else:\n",
        "        freq_table[word]=1\n",
        "\n",
        "sentences=sent_tokenize(text)\n",
        "sentenceValue=dict()\n",
        "for sentence in sentences:\n",
        "    for word, freq in freq_table.items():\n",
        "        if word in sentence.lower():\n",
        "            if sentence in sentenceValue:\n",
        "                sentenceValue[sentence]+=freq\n",
        "            else:\n",
        "                sentenceValue[sentence]=freq\n",
        "\n",
        "sumValues=0\n",
        "for sentence in sentenceValue:\n",
        "    sumValues+=sentenceValue[sentence]\n",
        "\n",
        "average=int(sumValues/len(sentenceValue))\n",
        "\n",
        "summary=''\n",
        "for sentence in sentences:\n",
        "    if sentence in sentenceValue and sentenceValue[sentence]>average:\n",
        "        summary+=' '+sentence\n",
        "\n",
        "print(\"summary is : \",summary)"
      ]
    }
  ]
}